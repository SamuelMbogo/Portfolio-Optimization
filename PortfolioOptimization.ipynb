{
 "cells": [
  {
   "cell_type": "markdown",
   "id": "2d9df0ff",
   "metadata": {
    "id": "2d9df0ff"
   },
   "source": [
    "# Case Study - Portfolio Optimization\n",
    "In this case study, we will build two $10,000 investment portfolios containing four stocks. The first portfolio will have an equal weighting between the stocks. The second portfolio will be optimized with a weighting allocation that provides the best return, adjusted for risk. To build these two portfolios, we will:\n",
    "1. Import two years of data for four stocks\n",
    "2. Build the initial portfolio with equal weighting to each of the stocks\n",
    "3. Analyze and visualize the equal-weighted portfolio\n",
    "4. Generate 10,000 portfolio scenarios with random weighting to each of the stocks\n",
    "5. Identify the optimal portfolio from the scenarios and visualize the results"
   ]
  },
  {
   "cell_type": "markdown",
   "id": "720791ef",
   "metadata": {
    "id": "720791ef"
   },
   "source": [
    "## Import Packages & Connect to Data"
   ]
  },
  {
   "cell_type": "code",
   "execution_count": 2,
   "id": "9187de70",
   "metadata": {
    "id": "9187de70"
   },
   "outputs": [
    {
     "ename": "ModuleNotFoundError",
     "evalue": "No module named 'pandas_datareader'",
     "output_type": "error",
     "traceback": [
      "\u001b[1;31m---------------------------------------------------------------------------\u001b[0m",
      "\u001b[1;31mModuleNotFoundError\u001b[0m                       Traceback (most recent call last)",
      "\u001b[1;32m<ipython-input-2-6ae7c61f3423>\u001b[0m in \u001b[0;36m<module>\u001b[1;34m\u001b[0m\n\u001b[0;32m      2\u001b[0m \u001b[1;32mimport\u001b[0m \u001b[0mpandas\u001b[0m \u001b[1;32mas\u001b[0m \u001b[0mpd\u001b[0m\u001b[1;33m\u001b[0m\u001b[1;33m\u001b[0m\u001b[0m\n\u001b[0;32m      3\u001b[0m \u001b[1;32mimport\u001b[0m \u001b[0mnumpy\u001b[0m \u001b[1;32mas\u001b[0m \u001b[0mnp\u001b[0m\u001b[1;33m\u001b[0m\u001b[1;33m\u001b[0m\u001b[0m\n\u001b[1;32m----> 4\u001b[1;33m \u001b[1;32mimport\u001b[0m \u001b[0mpandas_datareader\u001b[0m\u001b[1;33m.\u001b[0m\u001b[0mdata\u001b[0m \u001b[1;32mas\u001b[0m \u001b[0mpdr\u001b[0m\u001b[1;33m\u001b[0m\u001b[1;33m\u001b[0m\u001b[0m\n\u001b[0m\u001b[0;32m      5\u001b[0m \u001b[1;32mimport\u001b[0m \u001b[0mmatplotlib\u001b[0m\u001b[1;33m.\u001b[0m\u001b[0mpyplot\u001b[0m \u001b[1;32mas\u001b[0m \u001b[0mplt\u001b[0m\u001b[1;33m\u001b[0m\u001b[1;33m\u001b[0m\u001b[0m\n\u001b[0;32m      6\u001b[0m \u001b[0mget_ipython\u001b[0m\u001b[1;33m(\u001b[0m\u001b[1;33m)\u001b[0m\u001b[1;33m.\u001b[0m\u001b[0mrun_line_magic\u001b[0m\u001b[1;33m(\u001b[0m\u001b[1;34m'matplotlib'\u001b[0m\u001b[1;33m,\u001b[0m \u001b[1;34m'inline'\u001b[0m\u001b[1;33m)\u001b[0m\u001b[1;33m\u001b[0m\u001b[1;33m\u001b[0m\u001b[0m\n",
      "\u001b[1;31mModuleNotFoundError\u001b[0m: No module named 'pandas_datareader'"
     ]
    }
   ],
   "source": [
    "# Import packages needed for case study\n",
    "import pandas as pd\n",
    "import numpy as np\n",
    "import pandas_datareader as pdr\n",
    "import matplotlib.pyplot as plt\n",
    "%matplotlib inline"
   ]
  },
  {
   "cell_type": "code",
   "execution_count": null,
   "id": "5792b948",
   "metadata": {
    "id": "5792b948"
   },
   "outputs": [],
   "source": [
    "# Set start and end date parameters\n",
    "startdate = '2019-01-01'\n",
    "enddate = '2021-12-31'\n",
    "\n",
    "# List the four stock ticker symbols for our portfolio\n",
    "stock_list = ['AMD', 'AAPL', 'MSFT', 'ORCL']\n",
    "\n",
    "# Create an empty dictionary to store our stock info\n",
    "stocks = {}\n",
    "\n",
    "# Loop through each stock in the stock_list and return the Adj Close\n",
    "for i_stock in stock_list:\n",
    "    stocks[i_stock] = pdr.DataReader(i_stock, 'yahoo', startdate, enddate)[['Adj Close']]"
   ]
  },
  {
   "cell_type": "code",
   "execution_count": null,
   "id": "f3619470",
   "metadata": {
    "id": "f3619470",
    "outputId": "814a1fe0-520c-4358-f757-395d3cbef238"
   },
   "outputs": [],
   "source": [
    "# Examine the 'AMD' Adj Close from the stocks dictionary\n",
    "stocks['AMD'].head()"
   ]
  },
  {
   "cell_type": "markdown",
   "id": "2733fc05",
   "metadata": {
    "id": "2733fc05"
   },
   "source": [
    "## Create the Equal-Weighted Portfolio\n",
    "To create the equal-weighted portfolio, we need to add some additional columns to the DataFrames in the `stocks` dictionary. The three columns that we will build are:\n",
    "* Normalized Return = Adjusted Close / Adjusted Close on the `startdate` of the portfolio\n",
    "* Allocation = Normalized Return * 0.25 (equal weighting for each of the four stocks)\n",
    "* Position Value = Allocation * 10,000 (value of the portfolio)"
   ]
  },
  {
   "cell_type": "code",
   "execution_count": null,
   "id": "3f5388a1",
   "metadata": {
    "id": "3f5388a1"
   },
   "outputs": [],
   "source": [
    "# Create 'Normalized Return' column for each stock\n",
    "for stock_name, stock_data in stocks.items():\n",
    "    first_adj_close = stock_data.iloc[0]['Adj Close'] # Select the first row from the Adj Close column\n",
    "    stock_data['Normalized Return'] = stock_data['Adj Close'] / first_adj_close # Divide each row by the first Adj Close"
   ]
  },
  {
   "cell_type": "code",
   "execution_count": null,
   "id": "a0ae4ce2",
   "metadata": {
    "id": "a0ae4ce2",
    "outputId": "2500583f-0feb-439d-aafe-561bdc1ad185"
   },
   "outputs": [],
   "source": [
    "stocks['AAPL'].head()"
   ]
  },
  {
   "cell_type": "code",
   "execution_count": null,
   "id": "8a605d85",
   "metadata": {
    "id": "8a605d85"
   },
   "outputs": [],
   "source": [
    "# Create allocation for each stock - equally weighted in our initial portfolio\n",
    "for stock_name, stock_data in stocks.items():\n",
    "    stock_data['Allocation'] = stock_data['Normalized Return'] * 0.25"
   ]
  },
  {
   "cell_type": "code",
   "execution_count": null,
   "id": "c89341de",
   "metadata": {
    "id": "c89341de",
    "outputId": "2451866f-929b-4239-abe8-25cd4a7ac2b2"
   },
   "outputs": [],
   "source": [
    "stocks['MSFT'].head()"
   ]
  },
  {
   "cell_type": "code",
   "execution_count": null,
   "id": "4ad751db",
   "metadata": {
    "id": "4ad751db"
   },
   "outputs": [],
   "source": [
    "# Set the value of the portfolio to $10k\n",
    "for stock_name, stock_data in stocks.items():\n",
    "    stock_data['Position Value'] = stock_data['Allocation'] * 10000"
   ]
  },
  {
   "cell_type": "code",
   "execution_count": null,
   "id": "53c36f9d",
   "metadata": {
    "id": "53c36f9d",
    "outputId": "d58f9d6c-0b94-4993-bcb1-6c03a3785409"
   },
   "outputs": [],
   "source": [
    "stocks['ORCL'].head()"
   ]
  },
  {
   "cell_type": "markdown",
   "id": "26d042b6",
   "metadata": {
    "id": "26d042b6"
   },
   "source": [
    "## Visualize the Portfolio Performance\n",
    "To visualize the performance of the portfolio, we can create two line charts that show the return of the portfolio, and the return of the individual stocks, over time. Let's build a new DataFrame that contains just the `position value` for each stock, as well as the total value for the portfolio. We can use this DataFrame to create the two visuals."
   ]
  },
  {
   "cell_type": "code",
   "execution_count": null,
   "id": "fc9cadf3",
   "metadata": {
    "id": "fc9cadf3"
   },
   "outputs": [],
   "source": [
    "# Create position_values dictionary\n",
    "position_values = {}\n",
    "\n",
    "for stock_name, stock_data in stocks.items():\n",
    "    position_values[stock_name] = stock_data['Position Value']"
   ]
  },
  {
   "cell_type": "code",
   "execution_count": 3,
   "id": "3a7ffce6",
   "metadata": {
    "id": "3a7ffce6",
    "outputId": "458b167b-348a-40c9-9cc3-4e87e5f44b87"
   },
   "outputs": [
    {
     "ename": "NameError",
     "evalue": "name 'position_values' is not defined",
     "output_type": "error",
     "traceback": [
      "\u001b[1;31m---------------------------------------------------------------------------\u001b[0m",
      "\u001b[1;31mNameError\u001b[0m                                 Traceback (most recent call last)",
      "\u001b[1;32m<ipython-input-3-11729bb8f9f0>\u001b[0m in \u001b[0;36m<module>\u001b[1;34m\u001b[0m\n\u001b[0;32m      1\u001b[0m \u001b[1;31m# Convert the position_values dictionary to a DataFrame\u001b[0m\u001b[1;33m\u001b[0m\u001b[1;33m\u001b[0m\u001b[1;33m\u001b[0m\u001b[0m\n\u001b[1;32m----> 2\u001b[1;33m \u001b[0mposition_values\u001b[0m \u001b[1;33m=\u001b[0m \u001b[0mpd\u001b[0m\u001b[1;33m.\u001b[0m\u001b[0mDataFrame\u001b[0m\u001b[1;33m(\u001b[0m\u001b[0mdata\u001b[0m\u001b[1;33m=\u001b[0m\u001b[0mposition_values\u001b[0m\u001b[1;33m)\u001b[0m\u001b[1;33m\u001b[0m\u001b[1;33m\u001b[0m\u001b[0m\n\u001b[0m\u001b[0;32m      3\u001b[0m \u001b[1;33m\u001b[0m\u001b[0m\n\u001b[0;32m      4\u001b[0m \u001b[0mposition_values\u001b[0m\u001b[1;33m.\u001b[0m\u001b[0mhead\u001b[0m\u001b[1;33m(\u001b[0m\u001b[1;33m)\u001b[0m\u001b[1;33m\u001b[0m\u001b[1;33m\u001b[0m\u001b[0m\n",
      "\u001b[1;31mNameError\u001b[0m: name 'position_values' is not defined"
     ]
    }
   ],
   "source": [
    "# Convert the position_values dictionary to a DataFrame\n",
    "position_values = pd.DataFrame(data=position_values)\n",
    "\n",
    "position_values.head()"
   ]
  },
  {
   "cell_type": "code",
   "execution_count": null,
   "id": "c778dba8",
   "metadata": {
    "id": "c778dba8"
   },
   "outputs": [],
   "source": [
    "# Add 'Total' column to position values, summing the other columns\n",
    "position_values['Total'] = position_values.sum(axis=1)"
   ]
  },
  {
   "cell_type": "code",
   "execution_count": null,
   "id": "9b2d20f8",
   "metadata": {
    "id": "9b2d20f8",
    "outputId": "cbc7dd9d-c5a2-4fd6-f26b-c42154ba284e"
   },
   "outputs": [],
   "source": [
    "position_values.head()"
   ]
  },
  {
   "cell_type": "code",
   "execution_count": null,
   "id": "dbee56dd",
   "metadata": {
    "id": "dbee56dd",
    "outputId": "7bd0ac1e-90aa-433d-c465-84a2534244bd"
   },
   "outputs": [],
   "source": [
    "# View the total portfolio\n",
    "plt.figure(figsize=(12, 8))\n",
    "\n",
    "plt.plot(position_values['Total'])\n",
    "\n",
    "plt.title('Equal-Weighted Portfolio Performance')\n",
    "plt.ylabel('Total Value');"
   ]
  },
  {
   "cell_type": "code",
   "execution_count": null,
   "id": "8a4c4f02",
   "metadata": {
    "id": "8a4c4f02",
    "outputId": "e52a0d04-3cc9-4be1-e426-998db922a569"
   },
   "outputs": [],
   "source": [
    "# View the four stocks in the portfolio\n",
    "plt.figure(figsize=(12, 8))\n",
    "\n",
    "plt.plot(position_values.iloc[:,0:4])\n",
    "\n",
    "plt.title('Equal-Weighted Portfolio Stock Performance')\n",
    "plt.ylabel('Total Value');"
   ]
  },
  {
   "cell_type": "markdown",
   "id": "e79bf233",
   "metadata": {
    "id": "e79bf233"
   },
   "source": [
    "## Calculate Performance Metrics for the Portfolio\n",
    "Now that we have created and visualized the equal-weighted portfolio, we can calculate a few metrics to further measure the performance of the portfolio. We will create five performances metrics:\n",
    " * Cumulative Return\n",
    " * Mean Daily Return\n",
    " * Standard Deviation Daily Return\n",
    " * Sharpe Ratio\n",
    " * Annualized Sharpe Ratio"
   ]
  },
  {
   "cell_type": "code",
   "execution_count": null,
   "id": "1005b5e3",
   "metadata": {
    "id": "1005b5e3",
    "outputId": "2a40bda5-75e8-47bd-cb42-bddd3fde1fda"
   },
   "outputs": [],
   "source": [
    "# Define the end and start value of the portfolio\n",
    "end_value = position_values['Total'][-1]\n",
    "start_value = position_values['Total'][0]\n",
    "\n",
    "# Calculate the cumulative portfolio return as a percentage\n",
    "cumulative_return = end_value / start_value - 1\n",
    "\n",
    "print(str(round(cumulative_return*100,2)), '%')"
   ]
  },
  {
   "cell_type": "code",
   "execution_count": null,
   "id": "aafd2d14",
   "metadata": {
    "id": "aafd2d14",
    "outputId": "833abe73-39d5-4a42-e335-d9340d339498"
   },
   "outputs": [],
   "source": [
    "# Create a 'Daily Returns' column\n",
    "position_values['Daily Return'] = position_values['Total'].pct_change()\n",
    "\n",
    "position_values.head()"
   ]
  },
  {
   "cell_type": "code",
   "execution_count": null,
   "id": "5879e065",
   "metadata": {
    "id": "5879e065",
    "outputId": "d988cdd2-fcdc-49ca-9fc1-8f73f931c2cd"
   },
   "outputs": [],
   "source": [
    "# Calculate the mean Daily Return \n",
    "mean_daily_return = position_values['Daily Return'].mean()\n",
    "\n",
    "print('The mean daily return is:', str(round(mean_daily_return, 4)))"
   ]
  },
  {
   "cell_type": "code",
   "execution_count": null,
   "id": "1138fc75",
   "metadata": {
    "id": "1138fc75",
    "outputId": "cf82fc69-b2cc-47e1-864e-07d6365c992c"
   },
   "outputs": [],
   "source": [
    "# Calculate the standard deviation of Daily Return \n",
    "std_daily_return = position_values['Daily Return'].std()\n",
    "\n",
    "print('The std daily return is:', str(round(std_daily_return, 4)))"
   ]
  },
  {
   "cell_type": "markdown",
   "id": "f5ac9439",
   "metadata": {
    "id": "f5ac9439"
   },
   "source": [
    "### Sharpe Ratio\n",
    "Now, let's explore a risk-adjusted return metric called the sharpe ratio. The sharpe ratio helps us quantify how much return we are getting by a given level of risk. When comparing two different investments against the same benchmark, the asset with the higher Sharpe ratio provides a higher return for the same amount of risk or the same return for a lower risk than the other asset. \n",
    "\n",
    "It is calculated by the average return of the portfolio minus a risk free rate (such as government bonds), divided by the standard deviation of the return. In this case, we assume the risk-free rate is close to zero, so we won't add it to the formula."
   ]
  },
  {
   "cell_type": "code",
   "execution_count": null,
   "id": "3693e3dd",
   "metadata": {
    "id": "3693e3dd",
    "outputId": "d7d696ab-ef62-402d-d33f-7a955712be22"
   },
   "outputs": [],
   "source": [
    "# Calculate the sharpe ratio\n",
    "sharpe_ratio = mean_daily_return / std_daily_return\n",
    "\n",
    "sharpe_ratio"
   ]
  },
  {
   "cell_type": "code",
   "execution_count": null,
   "id": "ae5bb80b",
   "metadata": {
    "id": "ae5bb80b",
    "outputId": "773f40e0-3ecb-4a70-d60f-72ed8cb2e220"
   },
   "outputs": [],
   "source": [
    "# Calculate the annualized sharpe ratio\n",
    "sharpe_ratio_annualized = sharpe_ratio * 252**0.5\n",
    "\n",
    "sharpe_ratio_annualized"
   ]
  },
  {
   "cell_type": "markdown",
   "id": "de803160",
   "metadata": {
    "id": "de803160"
   },
   "source": [
    "## Prepare Scenarios to Optimize Portfolio Weighting\n",
    "We need to prepare our data ahead of generating our scenarios to optimize the portfolio weighting. We will:\n",
    " * Create a dictionary containing the adjusted close for each of our stocks: stock_adj_close\n",
    " * Create another dictionary that transforms the adjusted close for each day to a percent change from the previous day"
   ]
  },
  {
   "cell_type": "code",
   "execution_count": null,
   "id": "434b0dcd",
   "metadata": {
    "id": "434b0dcd"
   },
   "outputs": [],
   "source": [
    "# Create stock_adj_close dictionary\n",
    "stock_adj_close = {}\n",
    "\n",
    "for stock_name, stock_data in stocks.items():\n",
    "    stock_adj_close[stock_name] = stock_data['Adj Close']"
   ]
  },
  {
   "cell_type": "code",
   "execution_count": null,
   "id": "0ffa9762",
   "metadata": {
    "id": "0ffa9762",
    "outputId": "796324f2-4fad-4398-dc51-a8c26b263218"
   },
   "outputs": [],
   "source": [
    "# Convert the stock_adj_close dictionary to a DataFrame\n",
    "stock_adj_close = pd.DataFrame(data=stock_adj_close)\n",
    "\n",
    "stock_adj_close.head()"
   ]
  },
  {
   "cell_type": "code",
   "execution_count": null,
   "id": "95bf6803",
   "metadata": {
    "id": "95bf6803",
    "outputId": "cb0f59b9-ee7b-4dc4-b43c-ebb103621d7b"
   },
   "outputs": [],
   "source": [
    "# Create stock_returns DataFrames to see the day over day change in stock value\n",
    "stock_returns = stock_adj_close.pct_change()\n",
    "\n",
    "stock_returns.head()"
   ]
  },
  {
   "cell_type": "markdown",
   "id": "ce3c7f1a",
   "metadata": {
    "id": "ce3c7f1a"
   },
   "source": [
    "## Build & Run 10,000 Portfolio Scenarios\n",
    "Now that we've prepared our data, we're almost ready to run our scenarios. First, we need to build the structures required to generate these scenarios and store the output. To do this, we will use the `numpy.zeros()` function. \n",
    "\n",
    "This function creates arrays that are filled with zeros. After we run the scenarios, we replace these zeros with the corresponding output. The reason we create the arrays with zeros first is to give our arrays the correct shape before we replace them with the correct values.\n",
    "\n",
    "We will create four different arrays:\n",
    " * weights_array - this array will have 10,000 rows and 4 columns and hold the weighting allocation for each stock\n",
    " * returns_array - this array will contain the portfolio return for each scenario\n",
    " * volatility_array - this array will contain the portfolio volatility for each scenario\n",
    " * sharpe_array - this array will contain the sharpe ratio for each scenario"
   ]
  },
  {
   "cell_type": "code",
   "execution_count": null,
   "id": "26aae2af",
   "metadata": {
    "id": "26aae2af",
    "outputId": "a44c349d-9f79-42c9-f9e5-f03e748f1371"
   },
   "outputs": [],
   "source": [
    "# Define the number of scenarios and create a blank array to populate stock weightings for each scenario\n",
    "scenarios = 10000\n",
    "\n",
    "weights_array = np.zeros((scenarios, len(stock_returns.columns)))\n",
    "\n",
    "weights_array"
   ]
  },
  {
   "cell_type": "code",
   "execution_count": null,
   "id": "5245589e",
   "metadata": {
    "id": "5245589e"
   },
   "outputs": [],
   "source": [
    "# Create additional blank arrays for scenario output\n",
    "returns_array = np.zeros(scenarios)\n",
    "volatility_array = np.zeros(scenarios)\n",
    "sharpe_array = np.zeros(scenarios)"
   ]
  },
  {
   "cell_type": "code",
   "execution_count": null,
   "id": "1815480a",
   "metadata": {
    "id": "1815480a"
   },
   "outputs": [],
   "source": [
    "import random\n",
    "random.seed(3)\n",
    "np.random.seed(3)\n",
    "\n",
    "for index in range(scenarios): \n",
    "    # Generate four random numbers for each index\n",
    "    numbers = np.array(np.random.random(4))\n",
    "    \n",
    "    # Divide each number by the sum of the numbers to generate the random weight\n",
    "    weights = numbers / np.sum(numbers)\n",
    "    \n",
    "    # Save the weights in weights_array\n",
    "    weights_array[index,:] = weights\n",
    "    \n",
    "    # Calculate the return for each scenario\n",
    "    returns_array[index] = np.sum(stock_returns.mean()*252*weights)\n",
    "    \n",
    "    # Calculate the expected volatility for each scenario\n",
    "    volatility_array[index] = np.sqrt(np.dot(weights.T,np.dot(stock_returns.cov()*252, weights)))\n",
    "\n",
    "    # Calculate the Sharpe Ratio for each scenario \n",
    "    sharpe_array[index] = returns_array[index] / volatility_array[index]"
   ]
  },
  {
   "cell_type": "code",
   "execution_count": null,
   "id": "119d847f",
   "metadata": {
    "id": "119d847f",
    "outputId": "f976b6c0-6bf7-4ee8-fafb-8820edf2c393"
   },
   "outputs": [],
   "source": [
    "print(\"The first combination:\", weights_array[0])"
   ]
  },
  {
   "cell_type": "code",
   "execution_count": null,
   "id": "ccd573c2",
   "metadata": {
    "id": "ccd573c2",
    "outputId": "a2986283-eedf-4fd8-ac24-ba95ed6ec82a"
   },
   "outputs": [],
   "source": [
    "print(\"The sharpe ratio of the first portfolio:\", sharpe_array[0])"
   ]
  },
  {
   "cell_type": "markdown",
   "id": "47e6455a",
   "metadata": {
    "id": "47e6455a"
   },
   "source": [
    "## Identify the Optimal Portfolio\n",
    "Now that we have the output for all 10,000 scenarios, we can identify the optimal portfolio. The optimal portfolio in this case study is the portfolio that has the highest sharpe ratio."
   ]
  },
  {
   "cell_type": "code",
   "execution_count": null,
   "id": "54a088bd",
   "metadata": {
    "id": "54a088bd",
    "outputId": "d690ff2b-ba5f-4794-a1d5-928b2c3ca5e7"
   },
   "outputs": [],
   "source": [
    "# Find the highest sharpe ratio in sharpe_array\n",
    "sharpe_array.max()"
   ]
  },
  {
   "cell_type": "code",
   "execution_count": null,
   "id": "f5d73de5",
   "metadata": {
    "id": "f5d73de5",
    "outputId": "b44db50f-ef98-44ca-ac5c-8ca33c1bb675"
   },
   "outputs": [],
   "source": [
    "# Find the index of the optimal portfolio\n",
    "index_max_sharpe = sharpe_array.argmax()\n",
    "index_max_sharpe"
   ]
  },
  {
   "cell_type": "code",
   "execution_count": null,
   "id": "0cb85e68",
   "metadata": {
    "id": "0cb85e68",
    "outputId": "a7720d83-9930-4166-d436-4620e2c13959"
   },
   "outputs": [],
   "source": [
    "# Print the optimal weights for each stock\n",
    "print(stock_list)\n",
    "print(weights_array[index_max_sharpe,:])"
   ]
  },
  {
   "cell_type": "markdown",
   "id": "a26b16aa",
   "metadata": {
    "id": "a26b16aa"
   },
   "source": [
    "## Visualize the Optimal Portfolio & Portfolio Scenarios\n",
    "Let's visualize our portfolio scenarios by using a scatter chart. We can use the volatility and returns arrays on each axis to see the relationship between risk and reward. As a final step, we can visualize where the optimal portfolio appears among all of the scenarios."
   ]
  },
  {
   "cell_type": "code",
   "execution_count": null,
   "id": "d02af92e",
   "metadata": {
    "id": "d02af92e",
    "outputId": "939baabb-3d5d-4ae2-c29b-a019783cb6fa"
   },
   "outputs": [],
   "source": [
    "# Visualize volatility vs returns for each scenario\n",
    "plt.figure(figsize=(12,8))\n",
    "\n",
    "plt.scatter(volatility_array, returns_array, c=sharpe_array, cmap='viridis')\n",
    "\n",
    "plt.colorbar(label='Sharpe Ratio')\n",
    "plt.xlabel('Volatility')\n",
    "plt.ylabel('Return');"
   ]
  },
  {
   "cell_type": "code",
   "execution_count": null,
   "id": "401ebb80",
   "metadata": {
    "id": "401ebb80",
    "outputId": "0bc75398-4437-4dfb-cdec-39eccede9f77"
   },
   "outputs": [],
   "source": [
    "# Identify the optimal portfolio in the returns and volatility arrays\n",
    "max_sharpe_return = returns_array[index_max_sharpe]\n",
    "max_sharpe_volatility = volatility_array[index_max_sharpe]\n",
    "\n",
    "# Visualize volatility vs returns for each scenario\n",
    "plt.figure(figsize=(12,8))\n",
    "\n",
    "plt.scatter(volatility_array, returns_array, c=sharpe_array, cmap='viridis')\n",
    "\n",
    "plt.colorbar(label='Sharpe Ratio')\n",
    "plt.xlabel('Volatility')\n",
    "plt.ylabel('Return')\n",
    "\n",
    "# Add the optimal portfolio to the visual\n",
    "plt.scatter(max_sharpe_volatility, max_sharpe_return, c='orange', edgecolors='black');"
   ]
  }
 ],
 "metadata": {
  "colab": {
   "collapsed_sections": [
    "e79bf233",
    "f5ac9439",
    "de803160",
    "ce3c7f1a",
    "47e6455a",
    "a26b16aa"
   ],
   "name": "5 - Case Study - Portfolio Optimization.ipynb",
   "provenance": []
  },
  "kernelspec": {
   "display_name": "Python 3",
   "language": "python",
   "name": "python3"
  },
  "language_info": {
   "codemirror_mode": {
    "name": "ipython",
    "version": 3
   },
   "file_extension": ".py",
   "mimetype": "text/x-python",
   "name": "python",
   "nbconvert_exporter": "python",
   "pygments_lexer": "ipython3",
   "version": "3.8.8"
  }
 },
 "nbformat": 4,
 "nbformat_minor": 5
}
